{
 "cells": [
  {
   "cell_type": "code",
   "execution_count": 35,
   "id": "0eac81dc",
   "metadata": {},
   "outputs": [
    {
     "name": "stdout",
     "output_type": "stream",
     "text": [
      "[[  3   2  76 100  54  43]\n",
      " [102  85  25  61  51  75]\n",
      " [ 10  67  84 121  43  79]]\n"
     ]
    },
    {
     "data": {
      "text/plain": [
       "[[3, 2, 76, 100, 54, 43], [102, 85, 25, 61, 51, 75], [10, 67, 84, 121, 43, 79]]"
      ]
     },
     "execution_count": 35,
     "metadata": {},
     "output_type": "execute_result"
    }
   ],
   "source": [
    "##Q1\n",
    "import numpy as np\n",
    "\n",
    "A=np.random.randint(0,128, size=(3,6))\n",
    "B=np.random.randint(0,128, size=(3,6))\n",
    "print(A)\n",
    "#plt.imshow(A)\n",
    "A.tolist()"
   ]
  },
  {
   "cell_type": "code",
   "execution_count": 19,
   "id": "715ddff5",
   "metadata": {},
   "outputs": [
    {
     "data": {
      "text/plain": [
       "[[182, 251, 13, 179, 66, 232],\n",
       " [254, 239, 137, 220, 99, 219],\n",
       " [83, 53, 173, 159, 84, 45],\n",
       " [122, 128, 8, 61, 107, 38],\n",
       " [148, 158, 231, 24, 94, 217]]"
      ]
     },
     "execution_count": 19,
     "metadata": {},
     "output_type": "execute_result"
    }
   ],
   "source": [
    "def to_list(A):\n",
    "    if len(A.shape)>1:\n",
    "        return[to_list(x) for x in A]\n",
    "    return[x for x in A]\n",
    "to_list(A)"
   ]
  },
  {
   "cell_type": "code",
   "execution_count": 24,
   "id": "0052d508",
   "metadata": {},
   "outputs": [
    {
     "data": {
      "text/plain": [
       "749"
      ]
     },
     "execution_count": 24,
     "metadata": {},
     "output_type": "execute_result"
    }
   ],
   "source": [
    "##Q2\n",
    "def diagonale(A):\n",
    "    c=min(A.shape)\n",
    "    s=0\n",
    "    for i in range(c):\n",
    "        s=s+A[i, i]\n",
    "    return s  \n",
    "diagonale(A)\n",
    "    "
   ]
  },
  {
   "cell_type": "code",
   "execution_count": 22,
   "id": "6baeeb62",
   "metadata": {},
   "outputs": [
    {
     "data": {
      "text/plain": [
       "749"
      ]
     },
     "execution_count": 22,
     "metadata": {},
     "output_type": "execute_result"
    }
   ],
   "source": [
    "##Q2'\n",
    "A.trace()\n",
    "np.sum(A.diagonal())"
   ]
  },
  {
   "cell_type": "code",
   "execution_count": 30,
   "id": "b33a6dbe",
   "metadata": {},
   "outputs": [
    {
     "data": {
      "text/plain": [
       "[182,\n",
       " 251,\n",
       " 179,\n",
       " 232,\n",
       " 254,\n",
       " 239,\n",
       " 137,\n",
       " 220,\n",
       " 219,\n",
       " 173,\n",
       " 159,\n",
       " 122,\n",
       " 128,\n",
       " 107,\n",
       " 148,\n",
       " 158,\n",
       " 231,\n",
       " 217]"
      ]
     },
     "execution_count": 30,
     "metadata": {},
     "output_type": "execute_result"
    }
   ],
   "source": [
    "##Q3\n",
    "def greater(A, x):\n",
    "    return A[A>x].tolist()\n",
    "greater(A,100)"
   ]
  },
  {
   "cell_type": "code",
   "execution_count": 53,
   "id": "d622b85b",
   "metadata": {},
   "outputs": [
    {
     "data": {
      "text/plain": [
       "array([[ True,  True,  True,  True,  True,  True],\n",
       "       [ True,  True,  True,  True,  True,  True],\n",
       "       [ True,  True,  True,  True,  True,  True]])"
      ]
     },
     "execution_count": 53,
     "metadata": {},
     "output_type": "execute_result"
    }
   ],
   "source": [
    "##Q4\n",
    "def add(A, B):\n",
    "    if A.shape!= B.shape:\n",
    "        print('shapes must be equal')\n",
    "        return None\n",
    "    x,y = A.shape\n",
    "    c=np.zeros((x, y))\n",
    "    for i in range(x):\n",
    "        for j in range(y):\n",
    "            c[i, j] = A[i, j]+B[i, j]\n",
    "    return c\n",
    "add(A, B)== A+B\n"
   ]
  },
  {
   "cell_type": "code",
   "execution_count": 63,
   "id": "71f75d95",
   "metadata": {},
   "outputs": [
    {
     "data": {
      "text/plain": [
       "array([[ 0.8, -0.2, -0.2, -0.2, -0.2],\n",
       "       [-0.2,  0.8, -0.2, -0.2, -0.2],\n",
       "       [-0.2, -0.2,  0.8, -0.2, -0.2],\n",
       "       [-0.2, -0.2, -0.2,  0.8, -0.2],\n",
       "       [-0.2, -0.2, -0.2, -0.2,  0.8]])"
      ]
     },
     "execution_count": 63,
     "metadata": {},
     "output_type": "execute_result"
    }
   ],
   "source": [
    "##Q5\n",
    "def subtractMean(A):\n",
    "    return A - A.mean(axis=1, keepdims=True)\n",
    "subtractMean(np.eye(5))"
   ]
  },
  {
   "cell_type": "code",
   "execution_count": null,
   "id": "4f24f5c6",
   "metadata": {},
   "outputs": [],
   "source": []
  }
 ],
 "metadata": {
  "kernelspec": {
   "display_name": "Python 3",
   "language": "python",
   "name": "python3"
  },
  "language_info": {
   "codemirror_mode": {
    "name": "ipython",
    "version": 3
   },
   "file_extension": ".py",
   "mimetype": "text/x-python",
   "name": "python",
   "nbconvert_exporter": "python",
   "pygments_lexer": "ipython3",
   "version": "3.8.8"
  }
 },
 "nbformat": 4,
 "nbformat_minor": 5
}
